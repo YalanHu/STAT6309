{
 "cells": [
  {
   "cell_type": "markdown",
   "metadata": {},
   "source": [
    "#### Try to finish as many problems as you can , the grade will be \"adjusted\" based on the class max/min score. \n",
    "\n",
    "#### Answer the questions based on your best understanding and judgement. If you feel there are multiple interpretation for the problem itself and will result in different solutions, specify your interpreation it in your answer   --- if more than 1 student express the same concern, I will accomodate it when grading\n",
    "\n",
    "#### You don't have to write your final answer with human language. as long as I can find the answer from your coding output, it's fine.\n",
    "\n",
    "#### The midterm will be submitted through Canvas (like what you did for your hw). The deadline is Mar 22nd, 7:50pm CST.  It costs 5 point/every 5 minutes for the late submission. If you cannot submit due to tech issue, use your phone to take pictures of your screen (and full solution), or send an email with the solution to yourself.  In either way, time stamp will be kept. To be fair, I don't accept any excuse for the late submission.\n"
   ]
  },
  {
   "cell_type": "markdown",
   "metadata": {},
   "source": [
    "1. Thumb up on Zoom and let me know you have successfully downloaded the midterm file and read the policy (1 point)\n",
    "\n",
    "   read the data from https://raw.githubusercontent.com/YalanHu/STAT6309/main/dataset_31_credit-g.csv, and create a dataset        called df. The imported values should not have quotation marks '' for all columns  (2 points)   3/100"
   ]
  },
  {
   "cell_type": "markdown",
   "metadata": {},
   "source": [
    "2. show the first 2 rows of df (2 points) 5/100"
   ]
  },
  {
   "cell_type": "markdown",
   "metadata": {},
   "source": [
    "3. How many rows and columns in df  (3 points)  8/100"
   ]
  },
  {
   "cell_type": "markdown",
   "metadata": {},
   "source": [
    "4. Show all column names in df (4 points)   12/100"
   ]
  },
  {
   "cell_type": "markdown",
   "metadata": {},
   "source": [
    "5. list the counts of unique values in personal_status (4 points)   16/100"
   ]
  },
  {
   "cell_type": "markdown",
   "metadata": {},
   "source": [
    "6. For all categorical columns, calculate the number of unique values for each columns, values with the highest frequency, and the value of the highest frequency. (4 points)   20/100\n",
    "\n",
    "   For example, checking_status has 4 unique values, the value with the highest frequency is \"no checking\", and the highest frequency is 394 "
   ]
  },
  {
   "cell_type": "markdown",
   "metadata": {},
   "source": [
    "7. what is the 20, 55, 70th pencentile of the attribute credit_amount (4 points)  24/100"
   ]
  },
  {
   "cell_type": "markdown",
   "metadata": {},
   "source": [
    "8. in df, change the column name from class to target (4 points)   28/100"
   ]
  },
  {
   "cell_type": "markdown",
   "metadata": {},
   "source": [
    "9. In df, created a new attribute called \"min_prepayment\".  min-prepayment = credit_amount/installment_commitment \n",
    "\n",
    "    what is the sum of min_prepayment?  (4 points)   32/100"
   ]
  },
  {
   "cell_type": "markdown",
   "metadata": {},
   "source": [
    "10. How many duplicates based on all columns in this df? (4 points)   36/100"
   ]
  },
  {
   "cell_type": "markdown",
   "metadata": {},
   "source": [
    "11. how many record satisfies [credit_amount > 4000 and credit_amount<3000],  or credit_amount>=7000  ?   (6 points)   42/100"
   ]
  },
  {
   "cell_type": "markdown",
   "metadata": {},
   "source": [
    "12. sort df by credit_amount, the largest value of credit_amount should be on top. \n",
    "    what is the mean duration value for the top 10 records based on the sorted order? (6 points)   48/100"
   ]
  },
  {
   "cell_type": "markdown",
   "metadata": {},
   "source": [
    "13. calculate the mean credit_amount value for each group in Purpose (column) \n",
    "    eg. the mean credit_amount value for business is 4158, for eduction is 3180..etc.. (4 points)   52/100\n",
    "    \n",
    "    generate a bar chart based on the output. The x axis is groups, and y axis is the mean credit_amount.\n",
    "    Add approriate label/title. (4 points)     56/100"
   ]
  },
  {
   "cell_type": "markdown",
   "metadata": {},
   "source": [
    "14.  In df, create a column \"credit_rating\" based on the rules below:\n",
    "\n",
    "     1). if credit_amount < 2000, credit_rating is Low\n",
    "     \n",
    "     2). if credit_amount >=2000 and credit_amount <4000, credit_rating is Medium\n",
    "     \n",
    "     3). else credit_amount is High\n",
    "     \n",
    "     Answer the question: how many of observations are Low, Median or High in column credit_rating (6 points)   62/100"
   ]
  },
  {
   "cell_type": "markdown",
   "metadata": {},
   "source": [
    "15. create a new df called df_personal_status. In this new df, all of th records have the male single status for persona_status.\n",
    "\n",
    "   How many rows for this new df? (4 points)    66/100"
   ]
  },
  {
   "cell_type": "markdown",
   "metadata": {},
   "source": [
    "16. for the df df_personal_status, permenently drop two columns checking_status and duration. (4 points)   70/100"
   ]
  },
  {
   "cell_type": "markdown",
   "metadata": {},
   "source": [
    "17. rewrite the code below (3 lines) using lambda function (3 points)    73/100"
   ]
  },
  {
   "cell_type": "code",
   "execution_count": 1,
   "metadata": {},
   "outputs": [
    {
     "data": {
      "text/plain": [
       "10"
      ]
     },
     "execution_count": 1,
     "metadata": {},
     "output_type": "execute_result"
    }
   ],
   "source": [
    "def XY_transform(x,y):\n",
    "    return (x+y)*2\n",
    "XY_transform(2,3)"
   ]
  },
  {
   "cell_type": "markdown",
   "metadata": {},
   "source": [
    "18. re-write the list comprehension code using for loop, and generate the same output (4 points)  77/100"
   ]
  },
  {
   "cell_type": "code",
   "execution_count": 2,
   "metadata": {},
   "outputs": [
    {
     "data": {
      "text/plain": [
       "[2, 4, 6, 8]"
      ]
     },
     "execution_count": 2,
     "metadata": {},
     "output_type": "execute_result"
    }
   ],
   "source": [
    "[x*2 for x in [1,2,3,4]]"
   ]
  },
  {
   "cell_type": "markdown",
   "metadata": {},
   "source": [
    "19.  merge the table a and b using two keys: A & B (3 points)   80/100"
   ]
  },
  {
   "cell_type": "markdown",
   "metadata": {},
   "source": [
    "20. write a user defined function to performance the factorial calcuation.\n",
    "\n",
    "    The input could be any interger X eg. 0, 1, 2, 3, 4, 5, 6, ....\n",
    "    the output will be X!\n",
    "    \n",
    "    no credit will be given for built-in factorial function  (8 points)    88/100"
   ]
  },
  {
   "cell_type": "markdown",
   "metadata": {},
   "source": [
    "21. Alex has had a very fruitful month and decided to take a vacation for a week. To avoid any stress during her vacation she wants to forward emails with work related subject line to Bob.\n",
    "\n",
    "    The function should recognise if a subject line is work related. A work related subject line means it contains the\n",
    "    “red” word: \"help\". The \"red\" word can be spelled in different ways - \"HELP\", \"help\", \"HeLp\", \"H!E!L!P!\", \"H-E-L-P\", even in a very loooong way \"HHHEEEEEEEEELLP,\" they just can't have any other letters interspersed between them. （12 points)   100/100\n",
    "\n",
    "    Input: Subject line as a string.\n",
    "    Output: Boolean.\n",
    "    Example:\n",
    "\n",
    "    is_work(\"Hi\") == False\n",
    "\n",
    "    is_work(\"I neeed HELP\") == True"
   ]
  }
 ],
 "metadata": {
  "kernelspec": {
   "display_name": "Python 3",
   "language": "python",
   "name": "python3"
  },
  "language_info": {
   "codemirror_mode": {
    "name": "ipython",
    "version": 3
   },
   "file_extension": ".py",
   "mimetype": "text/x-python",
   "name": "python",
   "nbconvert_exporter": "python",
   "pygments_lexer": "ipython3",
   "version": "3.8.5"
  }
 },
 "nbformat": 4,
 "nbformat_minor": 4
}
